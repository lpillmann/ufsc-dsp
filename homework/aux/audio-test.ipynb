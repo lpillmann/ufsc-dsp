{
 "cells": [
  {
   "cell_type": "code",
   "execution_count": 1,
   "metadata": {
    "collapsed": false
   },
   "outputs": [],
   "source": [
    "import numpy as np\n",
    "import simpleaudio as sa\n",
    "\n",
    "# calculate note frequencies\n",
    "A_freq = 440\n",
    "Csh_freq = A_freq * 2 ** (4 / 12)\n",
    "E_freq = A_freq * 2 ** (7 / 12)\n",
    "\n",
    "tone_freq = 697 + 1209\n",
    "tone2_freq = 697 + 1336\n",
    "\n",
    "# get timesteps for each sample, T is note duration in seconds\n",
    "sample_rate = 44100\n",
    "T = 0.25\n",
    "t = np.linspace(0, T, T * sample_rate, False)\n",
    "\n",
    "# generate sine wave notes\n",
    "A_note = np.sin(A_freq * t * 2 * np.pi)\n",
    "Csh_note = np.sin(Csh_freq * t * 2 * np.pi)\n",
    "E_note = np.sin(E_freq * t * 2 * np.pi)\n",
    "\n",
    "tone_note = np.sin(tone_freq * t * 2 * np.pi)\n",
    "tone2_note = np.sin(tone2_freq * t * 2 * np.pi)\n",
    "\n",
    "# concatenate notes\n",
    "audio = np.hstack((A_note, Csh_note, E_note, tone_note, tone2_note))\n",
    "# normalize to 16-bit range\n",
    "audio *= 32767 / np.max(np.abs(audio))\n",
    "# convert to 16-bit data\n",
    "audio = audio.astype(np.int16)\n",
    "\n",
    "# start playback\n",
    "play_obj = sa.play_buffer(audio, 1, 2, sample_rate)\n",
    "\n",
    "# wait for playback to finish before exiting\n",
    "play_obj.wait_done()"
   ]
  },
  {
   "cell_type": "code",
   "execution_count": null,
   "metadata": {
    "collapsed": true
   },
   "outputs": [],
   "source": []
  }
 ],
 "metadata": {
  "kernelspec": {
   "display_name": "Python 3",
   "language": "python",
   "name": "python3"
  },
  "language_info": {
   "codemirror_mode": {
    "name": "ipython",
    "version": 3
   },
   "file_extension": ".py",
   "mimetype": "text/x-python",
   "name": "python",
   "nbconvert_exporter": "python",
   "pygments_lexer": "ipython3",
   "version": "3.5.0"
  }
 },
 "nbformat": 4,
 "nbformat_minor": 1
}
